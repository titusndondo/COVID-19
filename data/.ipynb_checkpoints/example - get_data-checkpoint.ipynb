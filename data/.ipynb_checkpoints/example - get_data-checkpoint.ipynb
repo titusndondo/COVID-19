{
 "cells": [
  {
   "cell_type": "code",
   "execution_count": null,
   "metadata": {
    "colab": {
     "base_uri": "https://localhost:8080/",
     "height": 299
    },
    "colab_type": "code",
    "executionInfo": {
     "elapsed": 1059,
     "status": "error",
     "timestamp": 1589069299804,
     "user": {
      "displayName": "Titus Ndondo",
      "photoUrl": "",
      "userId": "06857126821348095945"
     },
     "user_tz": -120
    },
    "id": "mAKYZeCc5qD6",
    "outputId": "7b0376cb-645f-4676-a05a-22d1ad70bffd"
   },
   "outputs": [],
   "source": [
    "import pandas as pd\n",
    "import numpy as np\n",
    "from dplython import select, DplyFrame, X, arrange, sift, head, summarize, group_by, tail, mutate\n",
    "\n",
    "import pyodbc\n",
    "from get_data import testsGlobal, populationGlobal, exploreTables, Continents"
   ]
  },
  {
   "cell_type": "code",
   "execution_count": null,
   "metadata": {
    "colab": {},
    "colab_type": "code",
    "id": "2WqS5d_B5qEA"
   },
   "outputs": [],
   "source": [
    "url = 'https://raw.githubusercontent.com/Covid19R/coronavirus/master/csv/coronavirus.csv'\n",
    "data = pd.read_csv(url, error_bad_lines=False)\n",
    "\n",
    "data.rename(\n",
    "    columns = {\n",
    "        'Country.Region':'country',\n",
    "        'Province.State':'province',\n",
    "        'type':'case_type',\n",
    "        'Lat':'lat',\n",
    "        'Long':'long'\n",
    "    }, inplace = True\n",
    ")"
   ]
  },
  {
   "cell_type": "code",
   "execution_count": null,
   "metadata": {
    "colab": {},
    "colab_type": "code",
    "id": "HydIQrnM5qEF"
   },
   "outputs": [],
   "source": [
    "casesGlobal_temp2 = pd.pivot_table(\n",
    "                            data = data,\n",
    "                            index = ['date', 'country', 'province', 'lat', 'long'],\n",
    "                            columns = 'case_type',\n",
    "                            values = 'cases'\n",
    "                        ).reset_index()\n",
    "countries_w_provinces = casesGlobal_temp2['country'].unique()"
   ]
  },
  {
   "cell_type": "code",
   "execution_count": null,
   "metadata": {
    "colab": {},
    "colab_type": "code",
    "id": "lrAVAUMq5qEK",
    "outputId": "334ceb94-0a82-4c19-eea3-1ed249dad9d9"
   },
   "outputs": [],
   "source": [
    "data.pop('province')"
   ]
  },
  {
   "cell_type": "code",
   "execution_count": null,
   "metadata": {
    "colab": {},
    "colab_type": "code",
    "id": "29EP8i2x5qEV"
   },
   "outputs": [],
   "source": [
    "mask = data['country'].map(lambda string: string not in countries_w_provinces)\n",
    "data_copy = data[mask].copy()\n",
    "\n",
    "mask = data['country'].map(lambda string: string in countries_w_provinces)\n",
    "data_copy2 = data[mask].copy()\n",
    "\n",
    "for country in countries_w_provinces:\n",
    "\n",
    "    df = data_copy2[data_copy2['country'] == country].copy()\n",
    "    df = df.groupby(['date', 'country', 'case_type']).sum().reset_index().sort_values('date')\n",
    "    columns_order = data_copy.columns\n",
    "    df = df.loc[:, columns_order]\n",
    "\n",
    "    data_copy = pd.concat(\n",
    "                    [data_copy, df]\n",
    "                )\n",
    "    \n",
    "data_copy.max()"
   ]
  },
  {
   "cell_type": "code",
   "execution_count": null,
   "metadata": {
    "colab": {},
    "colab_type": "code",
    "id": "sTNIAKwW5qEZ"
   },
   "outputs": [],
   "source": [
    "casesGlobal_temp1 = pd.pivot_table(\n",
    "                            data = data_copy,\n",
    "                            index = ['date', 'country', 'lat', 'long'],\n",
    "                            columns = 'case_type',\n",
    "                            values = 'cases'\n",
    "                        )\n",
    "\n",
    "confirmed = casesGlobal_temp1['confirmed']\n",
    "death_plus_recovered = casesGlobal_temp1['death'] + casesGlobal_temp1['recovered']\n",
    "\n",
    "casesGlobal_temp1['active'] = confirmed.sub(death_plus_recovered)\n",
    "casesGlobal_temp1.reset_index(inplace = True)\n",
    "casesGlobal_temp1.max()"
   ]
  },
  {
   "cell_type": "code",
   "execution_count": null,
   "metadata": {
    "colab": {},
    "colab_type": "code",
    "id": "0Ht1Z-0Z5qEd"
   },
   "outputs": [],
   "source": [
    "all_countries = casesGlobal_temp1['country'].unique()\n",
    "\n",
    "cumul_cases = pd.DataFrame(index = casesGlobal_temp1.index)\n",
    "\n",
    "for country in all_countries:\n",
    "    \n",
    "    mask = casesGlobal_temp1['country'] == country\n",
    "    df_copy = casesGlobal_temp1[mask].copy()\n",
    "    df = df_copy[['date', 'country']].copy()\n",
    "\n",
    "    column_names = ['confirmed', 'death', 'recovered', 'active']\n",
    "\n",
    "    for column_name in column_names:\n",
    "        df['{}'.format(column_name)] = df_copy.loc[:, column_name].cumsum()\n",
    "        \n",
    "    cumul_cases = pd.concat(\n",
    "        [cumul_cases, df], sort = True\n",
    "    )\n",
    "    \n",
    "cumul_cases = cumul_cases.sort_values(['date', 'country']).dropna(how = 'all')  #.iloc[:len(cumul_cases) // 2, ]\n",
    "mask = pd.Series(np.where(cumul_cases['confirmed'] > 0, True, False))\n",
    "cumul_cases = cumul_cases[mask]\n",
    "cumul_cases"
   ]
  },
  {
   "cell_type": "code",
   "execution_count": null,
   "metadata": {
    "colab": {},
    "colab_type": "code",
    "id": "FNkRGnI35qEj"
   },
   "outputs": [],
   "source": [
    "def add_day(df, countriez):\n",
    "\n",
    "    df_temp = df.copy()\n",
    "    df = pd.DataFrame(index = range(0, 100000))\n",
    "    \n",
    "    for country in countriez:\n",
    "        data = (\n",
    "            DplyFrame(df_temp) >>\n",
    "              sift(X.country == country)\n",
    "        )\n",
    "\n",
    "        df_filt = (\n",
    "            data >>\n",
    "              mutate(day = range(1, len(data) + 1)) \n",
    "        ) \n",
    "\n",
    "        df = pd.concat(\n",
    "                    [df, df_filt], sort = False\n",
    "                ).dropna(how = 'all')\n",
    "        \n",
    "    return df\n",
    "\n",
    "cumul_cases = add_day(df = cumul_cases, countriez = all_countries)"
   ]
  },
  {
   "cell_type": "code",
   "execution_count": null,
   "metadata": {
    "colab": {},
    "colab_type": "code",
    "id": "4Q9i0u465qEo"
   },
   "outputs": [],
   "source": [
    "cumul_cases = pd.melt(\n",
    "        cumul_cases,\n",
    "        id_vars = ['date', 'day', 'country'],\n",
    "        value_vars = ['death', 'recovered', 'active'],\n",
    "        value_name = 'cum_cases',\n",
    "    var_name = 'case_type'\n",
    "    )"
   ]
  },
  {
   "cell_type": "code",
   "execution_count": null,
   "metadata": {
    "colab": {},
    "colab_type": "code",
    "id": "y-HnoqhG5qEs"
   },
   "outputs": [],
   "source": [
    "daily_cases = pd.melt(\n",
    "        casesGlobal_temp1,\n",
    "        id_vars = ['date', 'country'],\n",
    "        value_vars = ['death', 'recovered', 'active'],\n",
    "        value_name = 'daily_cases'\n",
    "    )"
   ]
  },
  {
   "cell_type": "code",
   "execution_count": null,
   "metadata": {
    "colab": {},
    "colab_type": "code",
    "id": "Hb3DQvZK5qEv"
   },
   "outputs": [],
   "source": [
    "casesGlobal = pd.merge(\n",
    "                left = cumul_cases,\n",
    "                right = daily_cases,\n",
    "                how = 'left',\n",
    "                on = ['date', 'country', 'case_type']\n",
    "            )\n",
    "\n",
    "casesGlobal['country'] = np.where(casesGlobal['country'] == 'Korea, South', 'South Korea', casesGlobal['country'])\n",
    "casesGlobal['country'] = np.where(casesGlobal['country'] == 'US', 'United States', casesGlobal['country'])\n",
    "casesGlobal['country'] = np.where(casesGlobal['country'] == 'Taiwan*', 'Taiwan', casesGlobal['country'])\n",
    "casesGlobal['country'] = np.where(casesGlobal['country'] == 'Cabo Verde', 'Cape Verde', casesGlobal['country'])\n",
    "casesGlobal['country'] = np.where(casesGlobal['country'] == 'Eswatini', 'Swaziland', casesGlobal['country'])"
   ]
  },
  {
   "cell_type": "code",
   "execution_count": null,
   "metadata": {
    "colab": {},
    "colab_type": "code",
    "id": "Lw95_LOZ5qEy"
   },
   "outputs": [],
   "source": [
    "from get_data import Continents\n",
    "\n",
    "Continents = Continents()\n",
    "Continents['country'] = np.where(Continents['country'] == 'Korea, South', 'South Korea', Continents['country'])\n",
    "Continents['country'] = np.where(Continents['country'] == 'US', 'United States', Continents['country'])\n",
    "Continents.sort_values('country', inplace = True)\n",
    "\n",
    "Continents['country'] = np.where(Continents['country'] == 'Burkina', 'Burkina Faso', Continents['country'])\n",
    "Continents['country'] = np.where(Continents['country'] == 'Burma (Myanmar)', 'Burma', Continents['country'])\n",
    "Continents['country'] = np.where(Continents['country'] == 'Congo, Democratic Republic of', 'Congo (Kinshasa)', Continents['country'])\n",
    "Continents['country'] = np.where(Continents['country'] == 'Congo', 'Congo (Brazzaville)', Continents['country'])\n",
    "Continents['country'] = np.where(Continents['country'] == 'Korea, North', 'North Korea', Continents['country'])\n",
    "Continents['country'] = np.where(Continents['country'] == 'Russian Federation', 'Russia', Continents['country'])\n",
    "Continents['country'] = np.where(Continents['country'] == 'Macedonia', 'North Macedonia', Continents['country'])\n",
    "Continents['country'] = np.where(Continents['country'] == 'CZ', 'Czechia', Continents['country'])\n",
    "Continents['country'] = np.where(Continents['country'] == 'East Timor', 'Timor-Leste', Continents['country'])\n",
    "Continents['country'] = np.where(Continents['country'] == 'Ivory Coast', \"Cote d'Ivoire\", Continents['country'])\n",
    "Continents['country'] = np.where(Continents['country'] == 'Vatican City', \"Holy See\", Continents['country'])\n",
    "\n",
    "my_dict = {\n",
    "    'country': ['Taiwan', 'Kosovo', 'Diamond Princess', 'MS Zaandam', 'West Bank and Gaza', 'Western Sahara'],\n",
    "    'continent':['Asia', 'Europe', 'Europe', 'Europe', 'Asia','Africa']\n",
    "            \n",
    "        }\n",
    "\n",
    "more_continents = pd.DataFrame(my_dict)\n",
    "Continents = pd.concat(\n",
    "    [Continents, more_continents], sort = True\n",
    ")"
   ]
  },
  {
   "cell_type": "code",
   "execution_count": null,
   "metadata": {
    "colab": {},
    "colab_type": "code",
    "id": "fW1ZpJI_5qE7",
    "outputId": "184bd153-7460-4921-b3bb-d925b7c9ff71"
   },
   "outputs": [],
   "source": [
    "countries = casesGlobal['country'].unique()\n",
    "country_ids = range(1, len(countries) + 1)\n",
    "Countries = pd.DataFrame(\n",
    "    {\n",
    "        'country': countries,\n",
    "        'country_id': country_ids\n",
    "    }\n",
    ")\n",
    "\n",
    "Countries = pd.merge(\n",
    "    left = Countries,\n",
    "    right = Continents,\n",
    "    how = 'left'\n",
    ")\n",
    "\n",
    "Countries = pd.merge(\n",
    "    left = Countries,\n",
    "    right = casesGlobal_temp1[['country', 'lat', 'long']].drop_duplicates().groupby('country').mean().reset_index(),\n",
    "    how = 'left'\n",
    ")\n",
    "\n",
    "Countries"
   ]
  },
  {
   "cell_type": "code",
   "execution_count": null,
   "metadata": {
    "colab": {},
    "colab_type": "code",
    "id": "-xzFL6_O5qE_"
   },
   "outputs": [],
   "source": [
    "casesGlobal = pd.merge(\n",
    "    left = casesGlobal,\n",
    "    right = Countries,\n",
    "    how = 'left'\n",
    ")\n",
    "\n",
    "columns_order = ['date', 'day', 'country_id', 'country', 'case_type', 'daily_cases', 'cum_cases']\n",
    "casesGlobal = casesGlobal.loc[:, columns_order]"
   ]
  },
  {
   "cell_type": "code",
   "execution_count": null,
   "metadata": {
    "colab": {},
    "colab_type": "code",
    "id": "TM21PT2-5qFC"
   },
   "outputs": [],
   "source": [
    "from get_data import populationGlobal\n",
    "populationGlobal = populationGlobal()"
   ]
  },
  {
   "cell_type": "code",
   "execution_count": null,
   "metadata": {
    "colab": {},
    "colab_type": "code",
    "id": "xXFWoqSn5qFH"
   },
   "outputs": [],
   "source": [
    "populationGlobal['country'] = np.where(populationGlobal['country'] == 'DR Congo', 'Congo (Kinshasa)', populationGlobal['country'])\n",
    "populationGlobal['country'] = np.where(populationGlobal['country'] == 'Congo', 'Congo (Brazzaville)', populationGlobal['country'])\n",
    "populationGlobal['country'] = np.where(populationGlobal['country'] == 'Ivory Coast', \"Cote d'Ivoire\", populationGlobal['country'])\n",
    "populationGlobal['country'] = np.where(populationGlobal['country'] == 'Czech Republic', \"Czechia\", populationGlobal['country'])\n",
    "populationGlobal['country'] = np.where(populationGlobal['country'] == 'Eswatini', \"Swaziland\", populationGlobal['country'])\n",
    "populationGlobal['country'] = np.where(populationGlobal['country'] == 'East Timor', \"Timor-Leste\", populationGlobal['country'])\n",
    "populationGlobal['country'] = np.where(populationGlobal['country'] == 'São Tomé and Príncipe', \"Sao Tome and Principe\", populationGlobal['country'])\n",
    "populationGlobal['country'] = np.where(populationGlobal['country'] == 'Vatican City', \"Holy See\", populationGlobal['country'])\n",
    "populationGlobal['country'] = np.where(populationGlobal['country'] == 'Myanmar', \"Burma\", populationGlobal['country'])\n",
    "\n",
    "\n",
    "my_dict = {\n",
    "    'country': ['Diamond Princess', 'MS Zaandam', 'West Bank and Gaza'],\n",
    "    'population':[3770, 2047, 4880000]\n",
    "            \n",
    "        }\n",
    "\n",
    "more_populations = pd.DataFrame(my_dict)\n",
    "populationGlobal = pd.concat(\n",
    "    [populationGlobal, more_populations], sort = True\n",
    ")"
   ]
  },
  {
   "cell_type": "code",
   "execution_count": null,
   "metadata": {
    "colab": {},
    "colab_type": "code",
    "id": "8Y44lLNj5qFN",
    "outputId": "9495640e-54d8-49ff-b3b0-697e0d038391"
   },
   "outputs": [],
   "source": [
    "populationGlobal = pd.merge(\n",
    "    left = populationGlobal,\n",
    "    right = Countries,\n",
    "    how = 'right'\n",
    ")\n",
    "\n",
    "columns_order = ['country_id', 'population']\n",
    "populationGlobal = populationGlobal.loc[:, columns_order]\n",
    "populationGlobal"
   ]
  },
  {
   "cell_type": "code",
   "execution_count": null,
   "metadata": {
    "colab": {},
    "colab_type": "code",
    "id": "4PTTwXT65qFS",
    "outputId": "44b68c77-7391-4c29-ad15-04f530b5d67a"
   },
   "outputs": [],
   "source": [
    "from get_data import testsGlobal\n",
    "testsGlobal = testsGlobal()\n",
    "testsGlobal.sort_values(by = ['country', 'date'], inplace = True)\n",
    "\n",
    "testsGlobal['country'] = np.where(testsGlobal['country'] == 'Congo', \"Congo (Brazzaville)\", testsGlobal['country'])\n",
    "testsGlobal['country'] = np.where(testsGlobal['country'] == 'Democratic Republic of Congo', \"Congo (Kinshasa)\", testsGlobal['country'])\n",
    "testsGlobal['country'] = np.where(testsGlobal['country'] == 'Myanmar', \"Burma\", testsGlobal['country'])\n",
    "testsGlobal['country'] = np.where(testsGlobal['country'] == 'Czech Republic', \"Czechia\", testsGlobal['country'])\n",
    "testsGlobal['country'] = np.where(testsGlobal['country'] == 'Vatican', \"Holy See\", testsGlobal['country'])\n",
    "testsGlobal['country'] = np.where(testsGlobal['country'] == 'Macedonia', \"North Macedonia\", testsGlobal['country'])\n",
    "testsGlobal['country'] = np.where(testsGlobal['country'] == 'Timor', \"Timor-Leste\", testsGlobal['country'])\n",
    "\n",
    "\n",
    "\n",
    "casesGlobal = pd.merge(\n",
    "    left = casesGlobal,\n",
    "    right = testsGlobal,\n",
    "    how = 'left'\n",
    ")\n",
    "\n",
    "columns_order = ['date', 'day', 'country_id', 'case_type', 'daily_cases', 'cum_cases', 'total_tests', 'tests_daily']\n",
    "casesGlobal = casesGlobal.loc[:, columns_order]\n",
    "casesGlobal"
   ]
  },
  {
   "cell_type": "code",
   "execution_count": null,
   "metadata": {
    "colab": {},
    "colab_type": "code",
    "id": "ZUa9BU9i5qFa"
   },
   "outputs": [],
   "source": [
    "casesGlobal = casesGlobal.astype(\n",
    "                        {\n",
    "                            'day': 'int32',\n",
    "                            'country_id': 'int32'\n",
    "                        }\n",
    "                    )\n",
    "\n",
    "casesGlobal.max()"
   ]
  },
  {
   "cell_type": "code",
   "execution_count": null,
   "metadata": {
    "colab": {},
    "colab_type": "code",
    "id": "NqADsuRG5qFg"
   },
   "outputs": [],
   "source": [
    "df_names = ['Countries', 'casesGlobal', 'populationGlobal']\n",
    "dataframes = [Countries, casesGlobal, populationGlobal]\n",
    "allTablesDict = {name: df for name, df in zip(df_names, dataframes)}"
   ]
  },
  {
   "cell_type": "code",
   "execution_count": 21,
   "metadata": {
    "colab": {},
    "colab_type": "code",
    "id": "FqpvX-n_5qFm",
    "outputId": "3b9cdc6b-6614-417f-cee6-26a04ceb90cc"
   },
   "outputs": [
    {
     "name": "stderr",
     "output_type": "stream",
     "text": [
      "<>:3: DeprecationWarning: invalid escape sequence \\S\n"
     ]
    }
   ],
   "source": [
    "# establish connection to local MsSQL\n",
    "conn = pyodbc.connect(DRIVER='{SQL Server}',\n",
    "                      SERVER='LAPTOP-D9C6NLOS\\SQLEXPRESS',\n",
    "                      UID ='sa', \n",
    "                      PWD = 'edsa@2020',\n",
    "                      Autocommit = True\n",
    "                             )    \n",
    "\n",
    "# Return a new Cursor object using the connection.\n",
    "cur = conn.cursor()\n",
    "\n",
    "# CREATE DATABASE\n",
    "cur.execute(\"\"\"\n",
    "            DROP DATABASE Covid_19;\n",
    "            \n",
    "            CREATE DATABASE Covid_19;\n",
    "            \"\"\")\n",
    "\n",
    "conn.commit()"
   ]
  },
  {
   "cell_type": "code",
   "execution_count": 22,
   "metadata": {
    "colab": {},
    "colab_type": "code",
    "id": "X0tP4nn25qFs"
   },
   "outputs": [],
   "source": [
    "# establish connection to local MsSQL and to DATABASE\n",
    "conn = pyodbc.connect(DRIVER = '{SQL Server}',\n",
    "                      SERVER = 'LAPTOP-D9C6NLOS\\SQLEXPRESS',\n",
    "                      DATABASE = 'Covid_19',\n",
    "                      UID = 'sa', \n",
    "                      PWD = 'edsa@2020',\n",
    "                      Autocommit = True\n",
    "                             ) "
   ]
  },
  {
   "cell_type": "code",
   "execution_count": 23,
   "metadata": {
    "colab": {},
    "colab_type": "code",
    "id": "pFBp6_l75qFv"
   },
   "outputs": [],
   "source": [
    "# Query to create tables\n",
    "\n",
    "countriesTableQuery = \"\"\"\n",
    "                        DROP TABLE IF EXISTS Countries;\n",
    "                        \n",
    "                        CREATE TABLE Countries(\n",
    "                        country varchar(50),\n",
    "                        country_id int,\n",
    "                        continent varchar(50),\n",
    "                        lat nvarchar(50),\n",
    "                        long nvarchar(50)\n",
    "                        )\n",
    "\n",
    "                      \"\"\"\n",
    "\n",
    "casesGlobalQuery = \"\"\" \n",
    "                        DROP TABLE IF EXISTS casesGlobal;\n",
    "            \n",
    "                        CREATE TABLE casesGlobal(\n",
    "                        date DATE,\n",
    "                        day int,\n",
    "                        country_id int,\n",
    "                        case_type varchar(50),\n",
    "                        cum_cases varchar(50),\n",
    "                        daily_cases varchar(50),\n",
    "                        total_tests varchar(50),\n",
    "                        tests_daily varchar(50)\n",
    "                                ); \n",
    "                  \"\"\"\n",
    "\n",
    "populationTableQuery = \"\"\"\n",
    "                        DROP TABLE IF EXISTS populationGlobal;\n",
    "                        \n",
    "                        CREATE TABLE populationGlobal(\n",
    "                        country_id int,\n",
    "                        population varchar(50)\n",
    "                        )\n",
    "                       \"\"\"\n",
    "\n",
    "createTableQuiries = [countriesTableQuery, casesGlobalQuery, populationTableQuery]"
   ]
  },
  {
   "cell_type": "code",
   "execution_count": 24,
   "metadata": {
    "colab": {},
    "colab_type": "code",
    "id": "RWlIoILr5qFy"
   },
   "outputs": [],
   "source": [
    "# Return a new Cursor object using the connection.\n",
    "cur = conn.cursor()\n",
    "\n",
    "for query in createTableQuiries:\n",
    "    # run query\n",
    "    cur.execute(query)\n",
    "    conn.commit()"
   ]
  },
  {
   "cell_type": "code",
   "execution_count": 25,
   "metadata": {
    "colab": {},
    "colab_type": "code",
    "id": "s5l0g7od5qF1"
   },
   "outputs": [],
   "source": [
    "for table_name, df in allTablesDict.items():\n",
    "\n",
    "    # Return a new Cursor object using the connection.\n",
    "    cur = conn.cursor()\n",
    "\n",
    "    number_of_columns = len(df.columns)\n",
    "    table_columns = str(tuple(df.columns)).replace(\"'\", '')\n",
    "\n",
    "    for index in df.index:\n",
    "        Series = df.loc[index]\n",
    "\n",
    "        row = list()\n",
    "        for value in Series:\n",
    "            value = str(value)\n",
    "            if value != 'nan':\n",
    "                row.append(str(value))\n",
    "            else:\n",
    "                row.append('NULL')\n",
    "\n",
    "        cur.execute(\n",
    "            \"INSERT INTO {}{} values ({})\".format(\n",
    "                table_name,\n",
    "                table_columns,\n",
    "                ('?, ' * number_of_columns)[0:-2]\n",
    "            ),\n",
    "            row\n",
    "    )"
   ]
  },
  {
   "cell_type": "code",
   "execution_count": 26,
   "metadata": {
    "colab": {},
    "colab_type": "code",
    "id": "4nSecJOF5qF8"
   },
   "outputs": [],
   "source": [
    "for table_name, df in allTablesDict.items():\n",
    "    cols_w_nan = df.columns[df.isna().any()].tolist()\n",
    "    for column in cols_w_nan:\n",
    "        \n",
    "        cur.execute(\"UPDATE {} SET {} = NULL WHERE {} = 'NULL';\".format(table_name, column, column))\n",
    "        conn.commit()\n",
    "        \n",
    "        \n",
    "        if column not in ['Country', 'country_id', 'continent']:\n",
    "            cur.execute(\"ALTER TABLE {} ALTER COLUMN {} float;\".format(table_name, column))\n",
    "            conn.commit()"
   ]
  },
  {
   "cell_type": "code",
   "execution_count": 27,
   "metadata": {
    "colab": {},
    "colab_type": "code",
    "id": "RIZf5ac45qGA"
   },
   "outputs": [],
   "source": [
    "conn.close()"
   ]
  },
  {
   "cell_type": "code",
   "execution_count": 28,
   "metadata": {},
   "outputs": [
    {
     "data": {
      "text/plain": [
       "(-3.5, -3.5)"
      ]
     },
     "execution_count": 28,
     "metadata": {},
     "output_type": "execute_result"
    }
   ],
   "source": [
    "5.5 - ((2 * 3) + 3), 5.5 - 9"
   ]
  }
 ],
 "metadata": {
  "colab": {
   "name": "example - get_data.ipynb",
   "provenance": []
  },
  "kernelspec": {
   "display_name": "Python 3",
   "language": "python",
   "name": "python3"
  },
  "language_info": {
   "codemirror_mode": {
    "name": "ipython",
    "version": 3
   },
   "file_extension": ".py",
   "mimetype": "text/x-python",
   "name": "python",
   "nbconvert_exporter": "python",
   "pygments_lexer": "ipython3",
   "version": "3.6.10"
  }
 },
 "nbformat": 4,
 "nbformat_minor": 1
}
