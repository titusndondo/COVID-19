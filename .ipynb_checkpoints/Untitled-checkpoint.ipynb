{
 "cells": [
  {
   "cell_type": "code",
   "execution_count": 3,
   "metadata": {},
   "outputs": [],
   "source": [
    "library(tidyverse)\n",
    "library(magrittr)\n",
    "library(ggrepel)\n",
    "library(plotly)"
   ]
  },
  {
   "cell_type": "code",
   "execution_count": 14,
   "metadata": {},
   "outputs": [
    {
     "name": "stderr",
     "output_type": "stream",
     "text": [
      "Parsed with column specification:\n",
      "cols(\n",
      "  Date = col_date(format = \"\"),\n",
      "  Day = col_double(),\n",
      "  Province = col_character(),\n",
      "  `Cases by Province` = col_double(),\n",
      "  `New cases` = col_double(),\n",
      "  `Total cases` = col_double(),\n",
      "  `Total tested` = col_double(),\n",
      "  `New deaths` = col_double(),\n",
      "  `Total deaths` = col_double(),\n",
      "  Recovered = col_double()\n",
      ")\n"
     ]
    },
    {
     "data": {
      "text/html": [
       "<table>\n",
       "<thead><tr><th scope=col>Date</th><th scope=col>Day</th><th scope=col>Province</th><th scope=col>Cases by Province</th><th scope=col>New cases</th><th scope=col>Total cases</th><th scope=col>Total tested</th><th scope=col>New deaths</th><th scope=col>Total deaths</th><th scope=col>Recovered</th></tr></thead>\n",
       "<tbody>\n",
       "\t<tr><td>2020-04-08</td><td>33        </td><td>Unknown   </td><td>11        </td><td> 96       </td><td>1845      </td><td>63776     </td><td>5         </td><td>18        </td><td>  0       </td></tr>\n",
       "\t<tr><td>2020-04-09</td><td>34        </td><td>Unknown   </td><td>11        </td><td>  0       </td><td>1934      </td><td>63776     </td><td>0         </td><td>18        </td><td>  0       </td></tr>\n",
       "\t<tr><td>2020-04-10</td><td>35        </td><td>Unknown   </td><td>10        </td><td>  0       </td><td>2003      </td><td>73028     </td><td>0         </td><td>24        </td><td>410       </td></tr>\n",
       "\t<tr><td>2020-04-11</td><td>36        </td><td>Unknown   </td><td>NA        </td><td>  0       </td><td>2028      </td><td>75053     </td><td>1         </td><td>25        </td><td>  0       </td></tr>\n",
       "\t<tr><td>2020-04-12</td><td>37        </td><td>Unknown   </td><td>NA        </td><td>145       </td><td>2173      </td><td>80085     </td><td>0         </td><td>25        </td><td>  0       </td></tr>\n",
       "\t<tr><td>2020-04-13</td><td>38        </td><td>Unknown   </td><td>NA        </td><td>  0       </td><td>2272      </td><td>83663     </td><td>0         </td><td>27        </td><td>  0       </td></tr>\n",
       "</tbody>\n",
       "</table>\n"
      ],
      "text/latex": [
       "\\begin{tabular}{r|llllllllll}\n",
       " Date & Day & Province & Cases by Province & New cases & Total cases & Total tested & New deaths & Total deaths & Recovered\\\\\n",
       "\\hline\n",
       "\t 2020-04-08 & 33         & Unknown    & 11         &  96        & 1845       & 63776      & 5          & 18         &   0       \\\\\n",
       "\t 2020-04-09 & 34         & Unknown    & 11         &   0        & 1934       & 63776      & 0          & 18         &   0       \\\\\n",
       "\t 2020-04-10 & 35         & Unknown    & 10         &   0        & 2003       & 73028      & 0          & 24         & 410       \\\\\n",
       "\t 2020-04-11 & 36         & Unknown    & NA         &   0        & 2028       & 75053      & 1          & 25         &   0       \\\\\n",
       "\t 2020-04-12 & 37         & Unknown    & NA         & 145        & 2173       & 80085      & 0          & 25         &   0       \\\\\n",
       "\t 2020-04-13 & 38         & Unknown    & NA         &   0        & 2272       & 83663      & 0          & 27         &   0       \\\\\n",
       "\\end{tabular}\n"
      ],
      "text/markdown": [
       "\n",
       "| Date | Day | Province | Cases by Province | New cases | Total cases | Total tested | New deaths | Total deaths | Recovered |\n",
       "|---|---|---|---|---|---|---|---|---|---|\n",
       "| 2020-04-08 | 33         | Unknown    | 11         |  96        | 1845       | 63776      | 5          | 18         |   0        |\n",
       "| 2020-04-09 | 34         | Unknown    | 11         |   0        | 1934       | 63776      | 0          | 18         |   0        |\n",
       "| 2020-04-10 | 35         | Unknown    | 10         |   0        | 2003       | 73028      | 0          | 24         | 410        |\n",
       "| 2020-04-11 | 36         | Unknown    | NA         |   0        | 2028       | 75053      | 1          | 25         |   0        |\n",
       "| 2020-04-12 | 37         | Unknown    | NA         | 145        | 2173       | 80085      | 0          | 25         |   0        |\n",
       "| 2020-04-13 | 38         | Unknown    | NA         |   0        | 2272       | 83663      | 0          | 27         |   0        |\n",
       "\n"
      ],
      "text/plain": [
       "  Date       Day Province Cases by Province New cases Total cases Total tested\n",
       "1 2020-04-08 33  Unknown  11                 96       1845        63776       \n",
       "2 2020-04-09 34  Unknown  11                  0       1934        63776       \n",
       "3 2020-04-10 35  Unknown  10                  0       2003        73028       \n",
       "4 2020-04-11 36  Unknown  NA                  0       2028        75053       \n",
       "5 2020-04-12 37  Unknown  NA                145       2173        80085       \n",
       "6 2020-04-13 38  Unknown  NA                  0       2272        83663       \n",
       "  New deaths Total deaths Recovered\n",
       "1 5          18             0      \n",
       "2 0          18             0      \n",
       "3 0          24           410      \n",
       "4 1          25             0      \n",
       "5 0          25             0      \n",
       "6 0          27             0      "
      ]
     },
     "metadata": {},
     "output_type": "display_data"
    }
   ],
   "source": [
    "df = read_csv(\"covid19_data.csv\")\n",
    "df %>% tail"
   ]
  },
  {
   "cell_type": "code",
   "execution_count": 15,
   "metadata": {},
   "outputs": [],
   "source": [
    "cols = c('#8B4513', '#A0522D', '#D2691E', \n",
    "         '#CD853F', '#F4A460', '#DEB887', \n",
    "         '#D2B48C', '#BC8F8F', '#FFE4B5', \n",
    "         '#FFDAB9', '#FFE4E1', '#FAF0E6')\n",
    "theme_set(\n",
    "  theme_light() \n",
    ") "
   ]
  },
  {
   "cell_type": "code",
   "execution_count": 18,
   "metadata": {},
   "outputs": [
    {
     "name": "stderr",
     "output_type": "stream",
     "text": [
      "Warning message:\n",
      "\"Removed 304 rows containing missing values (geom_point).\"Warning message:\n",
      "\"Removed 304 rows containing missing values (geom_path).\"Warning message:\n",
      "\"Removed 10 rows containing missing values (geom_text_repel).\""
     ]
    },
    {
     "data": {
      "image/png": "[encoded data removed]",
      "text/plain": [
       "plot without title"
      ]
     },
     "metadata": {},
     "output_type": "display_data"
    }
   ],
   "source": [
    "df %>%\n",
    "  select(Date, Day, Province, 'Cases by Province') %>%\n",
    "  group_by(Province) %>%\n",
    "  mutate(cumul_sum = cumsum(`Cases by Province`)) ->\n",
    "  cases_by_province\n",
    "\n",
    "\n",
    "cases_by_province %>% \n",
    "  ungroup() %>%\n",
    "  mutate(Province = factor(Province, \n",
    "                           levels = c('Gauteng', 'Western Cape', 'KwaZulu Natal', 'Unknown', \n",
    "                                      'Freestate', 'Mpumalanga', 'Limpopo', 'Eastern Cape', \n",
    "                                      'North West', 'Northern Cape'))) %>%\n",
    "  ggplot(aes(Day, cumul_sum, color = Province)) +\n",
    "  geom_point() +\n",
    "  geom_line() +\n",
    "  geom_text_repel(aes(label = Province), \n",
    "            data = cases_by_province %>% filter(Day == max(Day)),\n",
    "            hjust = -.5, vjust = -1) +\n",
    "  theme(\n",
    "    legend.position = 'right'\n",
    "  ) +\n",
    "  labs(\n",
    "    x = 'Day', y = 'Number of infections', title = 'Anatomy of COVID-19 in South African Provinces'\n",
    "  ) +\n",
    "  scale_x_continuous(breaks = c(-1:45), limits = c(-1, 45)) +\n",
    "  scale_y_continuous(breaks = seq(0, 450, 50)) +\n",
    "  scale_color_brewer(palette = \"RdYlBu\", direction = -1) \n",
    "\n"
   ]
  },
  {
   "cell_type": "code",
   "execution_count": null,
   "metadata": {},
   "outputs": [],
   "source": []
  }
 ],
 "metadata": {
  "kernelspec": {
   "display_name": "R",
   "language": "R",
   "name": "ir"
  },
  "language_info": {
   "codemirror_mode": "r",
   "file_extension": ".r",
   "mimetype": "text/x-r-source",
   "name": "R",
   "pygments_lexer": "r",
   "version": "3.6.1"
  }
 },
 "nbformat": 4,
 "nbformat_minor": 4
}
