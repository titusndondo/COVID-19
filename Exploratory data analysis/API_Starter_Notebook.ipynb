{
  "nbformat": 4,
  "nbformat_minor": 0,
  "metadata": {
    "colab": {
      "name": "API_Starter_Notebook.ipynb",
      "provenance": [],
      "collapsed_sections": []
    },
    "kernelspec": {
      "name": "python3",
      "display_name": "Python 3"
    }
  },
  "cells": [
    {
      "cell_type": "markdown",
      "metadata": {
        "colab_type": "text",
        "id": "ELNSDDVEG3is"
      },
      "source": [
        "# API starter:\n",
        "\n",
        "Welcome to the COVID-19 challenge! Flex your amazing python and pandas skills to build an informative analysis. \n",
        "\n",
        "Use this notebook to connect to the COVID-19 database for access to our datasources.\n",
        "\n",
        "Use [these API's](https://ijvcpr9af1.execute-api.eu-west-1.amazonaws.com/api/) to access the data.\n",
        "\n",
        "<br>\n",
        "<br>"
      ]
    },
    {
      "cell_type": "code",
      "metadata": {
        "id": "PSVpNzCCHB6z",
        "colab_type": "code",
        "colab": {}
      },
      "source": [
        "# imports\n",
        "\n",
        "import pandas as pd\n",
        "import requests"
      ],
      "execution_count": 1,
      "outputs": []
    },
    {
      "cell_type": "markdown",
      "metadata": {},
      "source": [
        "# Introduction\n",
        "\n",
        "South Africa seems to be leading the way in successfully stemming the flow of the COVID 19 and keeping community transmissions reasonably low-that is a success that no one else has achieved. Our people are scared -as they should be- they have more questions than answers: Can SA escape the worst of this epidemic? Is exponential spread avoidable? The short answer to these questions is No. According to Prof Salon Abdool Karim who currently chairs the Ministerial Advisory Group for the trends and next steps in combating the virus in SA, the reason is simply because all of us have no immunity against this virus. He was quoted saying \"SA will not escape unless she has a special protective mojo not present anywhere else in the world\".\n",
        "\n",
        "I'm not here to shutter hopes, that is not my intention, but my question is \"why then is South Africa not on the expected Covid19 epidemic trajectory\". Why is our curve unique. Is it even unique or are we simply delaying the inevitable I.e a delayed spiral of cases after the lockdown. These are the questions we explore in this notebook. The data comes from a huge central repository created by the team at Explore AI. The database is a collection of publicly available data delivered to the community through APIs. The code below will pull the various tables into our environment.\n"
      ]
    },
    {
      "cell_type": "code",
      "execution_count": 2,
      "metadata": {},
      "outputs": [],
      "source": [
        "casesGlobal = 'https://9gnht4xyvf.execute-api.eu-west-1.amazonaws.com/api/get_table/CasesGlobalView'\n",
        "casesLocal = 'https://9gnht4xyvf.execute-api.eu-west-1.amazonaws.com/api/get_table/CasesLocalView'\n",
        "testsLocal = 'https://9gnht4xyvf.execute-api.eu-west-1.amazonaws.com/api/get_table/Testing'\n",
        "counterMeasures = 'https://9gnht4xyvf.execute-api.eu-west-1.amazonaws.com/api/get_table/CounterMeasureView'\n",
        "\n",
        "urls = {\n",
        "    'casesGlobal': casesGlobal,\n",
        "    'casesLocal': casesLocal,\n",
        "    'testsLocal': testsLocal,\n",
        "    'counterMeasures': counterMeasures\n",
        "}\n",
        "\n",
        "headers = {\n",
        "    'x-api-key': \"WVllUkRA01awNNgKxGg607vl5qIvuOAN3pW9HXmD\"\n",
        "    }\n",
        "\n",
        "tables = {}\n",
        "for table_name, url in urls.items():\n",
        "    response = requests.request(\"GET\", url, headers = headers)\n",
        "    x = response.json()\n",
        "    tables[table_name] = pd.DataFrame(x)"
      ]
    },
    {
      "cell_type": "code",
      "execution_count": 20,
      "metadata": {},
      "outputs": [
        {
          "output_type": "stream",
          "name": "stdout",
          "text": "TABLE: casesLocal\n(370, 6)\n1\n10\n2020-03-05 2020-04-12\n\nTABLE: testsLocal\n(44, 3)\n1\n2020-02-11 2020-04-12\n\nTABLE: counterMeasures\n(27390, 4)\n27\n2020-01-23 2020-04-05\n23\n\nTABLE: casesGlobal\n(7423, 14)\n185\n2020-01-22 2020-04-12\n"
        }
      ],
      "source": [
        "print('TABLE: casesLocal')\n",
        "print(tables['casesLocal'].shape)\n",
        "print(tables['casesLocal']['country_id'].nunique())\n",
        "print(tables['casesLocal']['location'].nunique())\n",
        "print(tables['casesLocal']['date'].min(), tables['casesLocal']['date'].max())\n",
        "print()\n",
        "print('TABLE: testsLocal')\n",
        "print(tables['testsLocal'].shape)\n",
        "print(tables['testsLocal']['country'].nunique())\n",
        "print(tables['testsLocal']['date'].min(), tables['testsLocal']['date'].max())\n",
        "print()\n",
        "print('TABLE: counterMeasures')\n",
        "print(tables['counterMeasures'].shape)\n",
        "print(tables['counterMeasures']['country'].nunique())\n",
        "print(tables['counterMeasures']['date'].min(), tables['counterMeasures']['date'].max())\n",
        "print(tables['counterMeasures']['measure'].nunique())\n",
        "print()\n",
        "print('TABLE: casesGlobal')\n",
        "print(tables['casesGlobal'].shape)\n",
        "print(tables['casesGlobal']['country'].nunique())\n",
        "print(tables['casesGlobal']['date'].min(), tables['casesGlobal']['date'].max())"
      ]
    },
    {
      "cell_type": "code",
      "execution_count": 50,
      "metadata": {},
      "outputs": [
        {
          "output_type": "execute_result",
          "data": {
            "text/plain": "   confirmed  country_id        date  id location location_level\n0          0         153  2020-03-05   1       EC     Provincial\n1          0         153  2020-03-07   1       EC     Provincial\n2          0         153  2020-03-08   1       EC     Provincial\n3          0         153  2020-03-09   1       EC     Provincial\n4          0         153  2020-03-11   1       EC     Provincial",
            "text/html": "<div>\n<style scoped>\n    .dataframe tbody tr th:only-of-type {\n        vertical-align: middle;\n    }\n\n    .dataframe tbody tr th {\n        vertical-align: top;\n    }\n\n    .dataframe thead th {\n        text-align: right;\n    }\n</style>\n<table border=\"1\" class=\"dataframe\">\n  <thead>\n    <tr style=\"text-align: right;\">\n      <th></th>\n      <th>confirmed</th>\n      <th>country_id</th>\n      <th>date</th>\n      <th>id</th>\n      <th>location</th>\n      <th>location_level</th>\n    </tr>\n  </thead>\n  <tbody>\n    <tr>\n      <th>0</th>\n      <td>0</td>\n      <td>153</td>\n      <td>2020-03-05</td>\n      <td>1</td>\n      <td>EC</td>\n      <td>Provincial</td>\n    </tr>\n    <tr>\n      <th>1</th>\n      <td>0</td>\n      <td>153</td>\n      <td>2020-03-07</td>\n      <td>1</td>\n      <td>EC</td>\n      <td>Provincial</td>\n    </tr>\n    <tr>\n      <th>2</th>\n      <td>0</td>\n      <td>153</td>\n      <td>2020-03-08</td>\n      <td>1</td>\n      <td>EC</td>\n      <td>Provincial</td>\n    </tr>\n    <tr>\n      <th>3</th>\n      <td>0</td>\n      <td>153</td>\n      <td>2020-03-09</td>\n      <td>1</td>\n      <td>EC</td>\n      <td>Provincial</td>\n    </tr>\n    <tr>\n      <th>4</th>\n      <td>0</td>\n      <td>153</td>\n      <td>2020-03-11</td>\n      <td>1</td>\n      <td>EC</td>\n      <td>Provincial</td>\n    </tr>\n  </tbody>\n</table>\n</div>"
          },
          "metadata": {},
          "execution_count": 50
        }
      ],
      "source": [
        "tables['casesLocal'].head()"
      ]
    },
    {
      "cell_type": "code",
      "execution_count": 51,
      "metadata": {},
      "outputs": [
        {
          "output_type": "execute_result",
          "data": {
            "text/plain": "        country  cumulative_tests        date\n0  South Africa                61  2020-02-11\n1  South Africa                67  2020-02-13\n2  South Africa                71  2020-02-14\n3  South Africa                95  2020-02-19\n4  South Africa               106  2020-02-20",
            "text/html": "<div>\n<style scoped>\n    .dataframe tbody tr th:only-of-type {\n        vertical-align: middle;\n    }\n\n    .dataframe tbody tr th {\n        vertical-align: top;\n    }\n\n    .dataframe thead th {\n        text-align: right;\n    }\n</style>\n<table border=\"1\" class=\"dataframe\">\n  <thead>\n    <tr style=\"text-align: right;\">\n      <th></th>\n      <th>country</th>\n      <th>cumulative_tests</th>\n      <th>date</th>\n    </tr>\n  </thead>\n  <tbody>\n    <tr>\n      <th>0</th>\n      <td>South Africa</td>\n      <td>61</td>\n      <td>2020-02-11</td>\n    </tr>\n    <tr>\n      <th>1</th>\n      <td>South Africa</td>\n      <td>67</td>\n      <td>2020-02-13</td>\n    </tr>\n    <tr>\n      <th>2</th>\n      <td>South Africa</td>\n      <td>71</td>\n      <td>2020-02-14</td>\n    </tr>\n    <tr>\n      <th>3</th>\n      <td>South Africa</td>\n      <td>95</td>\n      <td>2020-02-19</td>\n    </tr>\n    <tr>\n      <th>4</th>\n      <td>South Africa</td>\n      <td>106</td>\n      <td>2020-02-20</td>\n    </tr>\n  </tbody>\n</table>\n</div>"
          },
          "metadata": {},
          "execution_count": 51
        }
      ],
      "source": [
        "tables['testsLocal'].head()"
      ]
    },
    {
      "cell_type": "code",
      "execution_count": 52,
      "metadata": {},
      "outputs": [
        {
          "output_type": "execute_result",
          "data": {
            "text/plain": "   active  active_dailiy_growth_rate  active_rolling_3_day_growth_rate  \\\n0       1                        NaN                               NaN   \n1       1                        0.0                               NaN   \n2       1                        0.0                               NaN   \n3       1                        0.0                               0.0   \n4       1                        0.0                               0.0   \n\n   confirmed  confirmed_daily      country  daily_change_in_active_cases  \\\n0          1              NaN  Afghanistan                           NaN   \n1          1              0.0  Afghanistan                           0.0   \n2          1              0.0  Afghanistan                           0.0   \n3          1              0.0  Afghanistan                           0.0   \n4          1              0.0  Afghanistan                           0.0   \n\n         date  deaths  deaths_daily   lat  long  recovered  recovered_daily  \n0  2020-02-24       0           NaN  33.0  65.0          0              NaN  \n1  2020-02-25       0           0.0  33.0  65.0          0              0.0  \n2  2020-02-26       0           0.0  33.0  65.0          0              0.0  \n3  2020-02-27       0           0.0  33.0  65.0          0              0.0  \n4  2020-02-28       0           0.0  33.0  65.0          0              0.0  ",
            "text/html": "<div>\n<style scoped>\n    .dataframe tbody tr th:only-of-type {\n        vertical-align: middle;\n    }\n\n    .dataframe tbody tr th {\n        vertical-align: top;\n    }\n\n    .dataframe thead th {\n        text-align: right;\n    }\n</style>\n<table border=\"1\" class=\"dataframe\">\n  <thead>\n    <tr style=\"text-align: right;\">\n      <th></th>\n      <th>active</th>\n      <th>active_dailiy_growth_rate</th>\n      <th>active_rolling_3_day_growth_rate</th>\n      <th>confirmed</th>\n      <th>confirmed_daily</th>\n      <th>country</th>\n      <th>daily_change_in_active_cases</th>\n      <th>date</th>\n      <th>deaths</th>\n      <th>deaths_daily</th>\n      <th>lat</th>\n      <th>long</th>\n      <th>recovered</th>\n      <th>recovered_daily</th>\n    </tr>\n  </thead>\n  <tbody>\n    <tr>\n      <th>0</th>\n      <td>1</td>\n      <td>NaN</td>\n      <td>NaN</td>\n      <td>1</td>\n      <td>NaN</td>\n      <td>Afghanistan</td>\n      <td>NaN</td>\n      <td>2020-02-24</td>\n      <td>0</td>\n      <td>NaN</td>\n      <td>33.0</td>\n      <td>65.0</td>\n      <td>0</td>\n      <td>NaN</td>\n    </tr>\n    <tr>\n      <th>1</th>\n      <td>1</td>\n      <td>0.0</td>\n      <td>NaN</td>\n      <td>1</td>\n      <td>0.0</td>\n      <td>Afghanistan</td>\n      <td>0.0</td>\n      <td>2020-02-25</td>\n      <td>0</td>\n      <td>0.0</td>\n      <td>33.0</td>\n      <td>65.0</td>\n      <td>0</td>\n      <td>0.0</td>\n    </tr>\n    <tr>\n      <th>2</th>\n      <td>1</td>\n      <td>0.0</td>\n      <td>NaN</td>\n      <td>1</td>\n      <td>0.0</td>\n      <td>Afghanistan</td>\n      <td>0.0</td>\n      <td>2020-02-26</td>\n      <td>0</td>\n      <td>0.0</td>\n      <td>33.0</td>\n      <td>65.0</td>\n      <td>0</td>\n      <td>0.0</td>\n    </tr>\n    <tr>\n      <th>3</th>\n      <td>1</td>\n      <td>0.0</td>\n      <td>0.0</td>\n      <td>1</td>\n      <td>0.0</td>\n      <td>Afghanistan</td>\n      <td>0.0</td>\n      <td>2020-02-27</td>\n      <td>0</td>\n      <td>0.0</td>\n      <td>33.0</td>\n      <td>65.0</td>\n      <td>0</td>\n      <td>0.0</td>\n    </tr>\n    <tr>\n      <th>4</th>\n      <td>1</td>\n      <td>0.0</td>\n      <td>0.0</td>\n      <td>1</td>\n      <td>0.0</td>\n      <td>Afghanistan</td>\n      <td>0.0</td>\n      <td>2020-02-28</td>\n      <td>0</td>\n      <td>0.0</td>\n      <td>33.0</td>\n      <td>65.0</td>\n      <td>0</td>\n      <td>0.0</td>\n    </tr>\n  </tbody>\n</table>\n</div>"
          },
          "metadata": {},
          "execution_count": 52
        }
      ],
      "source": [
        "tables['casesGlobal'].head()"
      ]
    },
    {
      "cell_type": "code",
      "execution_count": 53,
      "metadata": {},
      "outputs": [
        {
          "output_type": "execute_result",
          "data": {
            "text/plain": "     country        date                           measure  value\n0  Australia  2020-02-14  International travel restriction    3.0\n1  Australia  2020-03-28                        Resumption    0.0\n2  Australia  2020-02-23     Diagnostic criteria tightened    0.0\n3  Australia  2020-01-27             Activity cancellation    0.0\n4  Australia  2020-03-04         Healthcare specialisation    0.0",
            "text/html": "<div>\n<style scoped>\n    .dataframe tbody tr th:only-of-type {\n        vertical-align: middle;\n    }\n\n    .dataframe tbody tr th {\n        vertical-align: top;\n    }\n\n    .dataframe thead th {\n        text-align: right;\n    }\n</style>\n<table border=\"1\" class=\"dataframe\">\n  <thead>\n    <tr style=\"text-align: right;\">\n      <th></th>\n      <th>country</th>\n      <th>date</th>\n      <th>measure</th>\n      <th>value</th>\n    </tr>\n  </thead>\n  <tbody>\n    <tr>\n      <th>0</th>\n      <td>Australia</td>\n      <td>2020-02-14</td>\n      <td>International travel restriction</td>\n      <td>3.0</td>\n    </tr>\n    <tr>\n      <th>1</th>\n      <td>Australia</td>\n      <td>2020-03-28</td>\n      <td>Resumption</td>\n      <td>0.0</td>\n    </tr>\n    <tr>\n      <th>2</th>\n      <td>Australia</td>\n      <td>2020-02-23</td>\n      <td>Diagnostic criteria tightened</td>\n      <td>0.0</td>\n    </tr>\n    <tr>\n      <th>3</th>\n      <td>Australia</td>\n      <td>2020-01-27</td>\n      <td>Activity cancellation</td>\n      <td>0.0</td>\n    </tr>\n    <tr>\n      <th>4</th>\n      <td>Australia</td>\n      <td>2020-03-04</td>\n      <td>Healthcare specialisation</td>\n      <td>0.0</td>\n    </tr>\n  </tbody>\n</table>\n</div>"
          },
          "metadata": {},
          "execution_count": 53
        }
      ],
      "source": [
        "tables['counterMeasures'].head()"
      ]
    },
    {
      "cell_type": "code",
      "execution_count": null,
      "metadata": {},
      "outputs": [],
      "source": []
    }
  ]
}